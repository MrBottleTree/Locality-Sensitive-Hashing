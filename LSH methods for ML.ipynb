{
 "cells": [
  {
   "cell_type": "code",
   "execution_count": 72,
   "id": "c6119087",
   "metadata": {},
   "outputs": [],
   "source": [
    "import pandas as pd\n",
    "import numpy as np\n",
    "import random\n",
    "import math\n",
    "import random\n",
    "from logistic_regression import *"
   ]
  },
  {
   "cell_type": "code",
   "execution_count": 65,
   "id": "7d645370",
   "metadata": {},
   "outputs": [],
   "source": [
    "def generate_chaotic_vectors(M, N):\n",
    "    vectors = []\n",
    "    for x in range(M):\n",
    "        x0 = random.uniform(1e-10, 1 - 1e-10)\n",
    "        trajectory = [x0]\n",
    "        for y in range(N - 1):\n",
    "            trajectory.append(4 * trajectory[-1] * (1 - trajectory[-1]))\n",
    "        vectors.append(trajectory)\n",
    "    return vectors"
   ]
  },
  {
   "cell_type": "code",
   "execution_count": 66,
   "id": "bd608ac9",
   "metadata": {},
   "outputs": [],
   "source": [
    "def cosine_sign_projection(data, chaotic_vectors):\n",
    "    projected_data = []\n",
    "\n",
    "    for sample in data:\n",
    "        projection = []\n",
    "        for chaos in chaotic_vectors:\n",
    "            chaos = [2 * x - 1 for x in chaos]\n",
    "            dot = sum(s * c for s, c in zip(sample, chaos))\n",
    "            norm_sample = math.sqrt(sum(s ** 2 for s in sample))\n",
    "            norm_chaos = math.sqrt(sum(c ** 2 for c in chaos))\n",
    "\n",
    "            if norm_sample == 0 or norm_chaos == 0:\n",
    "                cos_sim = 0\n",
    "            else:\n",
    "                cos_sim = dot / (norm_sample * norm_chaos)\n",
    "\n",
    "            projection.append(1 if cos_sim >= 0 else -1)\n",
    "\n",
    "        projected_data.append(projection)\n",
    "\n",
    "    return projected_data"
   ]
  },
  {
   "cell_type": "code",
   "execution_count": 68,
   "id": "99ce69ce",
   "metadata": {},
   "outputs": [],
   "source": [
    "def train_test_split(X, y, test_ratio=0.2):\n",
    "    combined = list(zip(X, y))\n",
    "    random.shuffle(combined)\n",
    "    split_index = int(len(combined) * (1 - test_ratio))\n",
    "    train_data = combined[:split_index]\n",
    "    test_data = combined[split_index:]\n",
    "\n",
    "    X_train, y_train = zip(*train_data)\n",
    "    X_test, y_test = zip(*test_data)\n",
    "\n",
    "    return list(X_train), list(y_train), list(X_test), list(y_test)"
   ]
  },
  {
   "cell_type": "code",
   "execution_count": 67,
   "id": "e7be237c",
   "metadata": {},
   "outputs": [],
   "source": [
    "def calculate_metrics(y_true, y_pred):\n",
    "    tp = sum(1 for yt, yp in zip(y_true, y_pred) if yt == yp == 1)\n",
    "    tn = sum(1 for yt, yp in zip(y_true, y_pred) if yt == yp == 0)\n",
    "    fp = sum(1 for yt, yp in zip(y_true, y_pred) if yt == 0 and yp == 1)\n",
    "    fn = sum(1 for yt, yp in zip(y_true, y_pred) if yt == 1 and yp == 0)\n",
    "\n",
    "    accuracy = (tp + tn) / len(y_true)\n",
    "    precision = tp / (tp + fp) if tp + fp > 0 else 0\n",
    "    recall = tp / (tp + fn) if tp + fn > 0 else 0\n",
    "    f1 = 2 * precision * recall / (precision + recall) if precision + recall > 0 else 0\n",
    "\n",
    "    return {\n",
    "        'accuracy': round(accuracy, 4),\n",
    "        'precision': round(precision, 4),\n",
    "        'recall': round(recall, 4),\n",
    "        'f1_score': round(f1, 4)\n",
    "    }"
   ]
  },
  {
   "cell_type": "code",
   "execution_count": 69,
   "id": "6eb43392",
   "metadata": {},
   "outputs": [
    {
     "data": {
      "text/plain": [
       "((569, 30), 569, [1, 1, 1, 1, 1])"
      ]
     },
     "execution_count": 69,
     "metadata": {},
     "output_type": "execute_result"
    }
   ],
   "source": [
    "df = pd.read_csv(r\"Breast Cancer Wisconsin (Diagnostic) Data Set.csv\")\n",
    "\n",
    "df = df.loc[:, ~df.columns.str.contains('^Unnamed')]\n",
    "df = df.drop(columns=['id'])\n",
    "\n",
    "df['diagnosis'] = df['diagnosis'].map({'M': 1, 'B': 0})\n",
    "\n",
    "y = df['diagnosis'].values\n",
    "X = df.drop(columns=['diagnosis']).values\n",
    "\n",
    "mean = X.mean(axis=0)\n",
    "std = X.std(axis=0)\n",
    "std[std == 0] = 1\n",
    "X_norm = (X - mean) / std\n",
    "\n",
    "X, y = X_norm.tolist(), y.tolist()\n",
    "(len(X), len(X[0])), len(y), y[:5]"
   ]
  },
  {
   "cell_type": "code",
   "execution_count": 70,
   "id": "7a9d15d0",
   "metadata": {},
   "outputs": [],
   "source": [
    "chaotic_vectors = generate_chaotic_vectors(5, len(X[0]))\n",
    "projected_X = cosine_sign_projection(X, chaotic_vectors)"
   ]
  },
  {
   "cell_type": "code",
   "execution_count": 78,
   "id": "cb3ab3f5",
   "metadata": {},
   "outputs": [],
   "source": [
    "X_train_normal, y_train_normal, X_test_normal, y_test_normal = train_test_split(X, y, 0.2)\n",
    "X_train_chaotic, y_train_chaotic, X_test_chaotic, y_test_chaotic = train_test_split(projected_X, y, 0.2)\n",
    "w_normal, b_normal = train_logistic_regression(X_train_normal, y_train_normal)\n",
    "w_chaotic, b_chaotic = train_logistic_regression(X_train_chaotic, y_train_chaotic)"
   ]
  },
  {
   "cell_type": "code",
   "execution_count": 79,
   "id": "cff92ec7",
   "metadata": {},
   "outputs": [],
   "source": [
    "y_pred_normal = predict_logistic_regression(X_test_normal, w_normal, b_normal)\n",
    "y_pred_chaotic = predict_logistic_regression(X_test_chaotic, w_chaotic, b_chaotic)"
   ]
  },
  {
   "cell_type": "code",
   "execution_count": 80,
   "id": "3b896530",
   "metadata": {},
   "outputs": [],
   "source": [
    "metrics_logistic = calculate_metrics(y_test_normal, y_pred_normal)\n",
    "metrics_chaotic = calculate_metrics(y_test_chaotic, y_pred_chaotic)"
   ]
  },
  {
   "cell_type": "code",
   "execution_count": 81,
   "id": "b9ded22f",
   "metadata": {},
   "outputs": [
    {
     "name": "stdout",
     "output_type": "stream",
     "text": [
      "{'accuracy': 0.886, 'precision': 0.8378, 'recall': 0.8158, 'f1_score': 0.8267}\n"
     ]
    }
   ],
   "source": [
    "print(metrics_chaotic)"
   ]
  },
  {
   "cell_type": "code",
   "execution_count": 82,
   "id": "6e0b54df",
   "metadata": {},
   "outputs": [
    {
     "name": "stdout",
     "output_type": "stream",
     "text": [
      "{'accuracy': 0.9649, 'precision': 0.9767, 'recall': 0.9333, 'f1_score': 0.9545}\n"
     ]
    }
   ],
   "source": [
    "print(metrics_logistic)"
   ]
  },
  {
   "cell_type": "code",
   "execution_count": null,
   "id": "a95e516f",
   "metadata": {},
   "outputs": [],
   "source": []
  }
 ],
 "metadata": {
  "kernelspec": {
   "display_name": "Python 3",
   "language": "python",
   "name": "python3"
  },
  "language_info": {
   "codemirror_mode": {
    "name": "ipython",
    "version": 3
   },
   "file_extension": ".py",
   "mimetype": "text/x-python",
   "name": "python",
   "nbconvert_exporter": "python",
   "pygments_lexer": "ipython3",
   "version": "3.13.3"
  }
 },
 "nbformat": 4,
 "nbformat_minor": 5
}
